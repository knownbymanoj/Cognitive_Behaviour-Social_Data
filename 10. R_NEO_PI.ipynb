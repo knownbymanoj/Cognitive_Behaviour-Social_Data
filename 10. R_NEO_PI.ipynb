{
 "cells": [
  {
   "cell_type": "code",
   "execution_count": 1,
   "id": "b7f036c6",
   "metadata": {},
   "outputs": [],
   "source": [
    "import pandas as pd\n",
    "import numpy as np"
   ]
  },
  {
   "cell_type": "code",
   "execution_count": 2,
   "id": "7b8b932b",
   "metadata": {},
   "outputs": [],
   "source": [
    "data = pd.read_csv(r\"C:\\Users\\manoj\\Downloads\\cbsd_project\\dataset.csv\")"
   ]
  },
  {
   "cell_type": "code",
   "execution_count": 3,
   "id": "84e411aa",
   "metadata": {},
   "outputs": [
    {
     "data": {
      "text/plain": [
       "(77687, 31)"
      ]
     },
     "execution_count": 3,
     "metadata": {},
     "output_type": "execute_result"
    }
   ],
   "source": [
    "data.shape"
   ]
  },
  {
   "cell_type": "code",
   "execution_count": 4,
   "id": "f1cade6e",
   "metadata": {},
   "outputs": [
    {
     "data": {
      "text/html": [
       "<div>\n",
       "<style scoped>\n",
       "    .dataframe tbody tr th:only-of-type {\n",
       "        vertical-align: middle;\n",
       "    }\n",
       "\n",
       "    .dataframe tbody tr th {\n",
       "        vertical-align: top;\n",
       "    }\n",
       "\n",
       "    .dataframe thead th {\n",
       "        text-align: right;\n",
       "    }\n",
       "</style>\n",
       "<table border=\"1\" class=\"dataframe\">\n",
       "  <thead>\n",
       "    <tr style=\"text-align: right;\">\n",
       "      <th></th>\n",
       "      <th>Optimism</th>\n",
       "      <th>Search_for_motivation</th>\n",
       "      <th>Activity</th>\n",
       "      <th>Assertiveness</th>\n",
       "      <th>Sociability</th>\n",
       "      <th>Friendliness</th>\n",
       "      <th>Empathy</th>\n",
       "      <th>Confidentiality</th>\n",
       "      <th>Cooperation</th>\n",
       "      <th>Altruism</th>\n",
       "      <th>...</th>\n",
       "      <th>Stability</th>\n",
       "      <th>Coldness</th>\n",
       "      <th>Calm</th>\n",
       "      <th>Liberalism</th>\n",
       "      <th>Intellectuality</th>\n",
       "      <th>Audacity</th>\n",
       "      <th>Emotionality</th>\n",
       "      <th>Artistic_interests</th>\n",
       "      <th>Imagination</th>\n",
       "      <th>Condtion</th>\n",
       "    </tr>\n",
       "  </thead>\n",
       "  <tbody>\n",
       "    <tr>\n",
       "      <th>0</th>\n",
       "      <td>15</td>\n",
       "      <td>12</td>\n",
       "      <td>14</td>\n",
       "      <td>12</td>\n",
       "      <td>13</td>\n",
       "      <td>15</td>\n",
       "      <td>18</td>\n",
       "      <td>15</td>\n",
       "      <td>14</td>\n",
       "      <td>14</td>\n",
       "      <td>...</td>\n",
       "      <td>15</td>\n",
       "      <td>14</td>\n",
       "      <td>8</td>\n",
       "      <td>10</td>\n",
       "      <td>15</td>\n",
       "      <td>10</td>\n",
       "      <td>13</td>\n",
       "      <td>14</td>\n",
       "      <td>16</td>\n",
       "      <td>H</td>\n",
       "    </tr>\n",
       "    <tr>\n",
       "      <th>1</th>\n",
       "      <td>18</td>\n",
       "      <td>17</td>\n",
       "      <td>16</td>\n",
       "      <td>12</td>\n",
       "      <td>18</td>\n",
       "      <td>12</td>\n",
       "      <td>11</td>\n",
       "      <td>17</td>\n",
       "      <td>15</td>\n",
       "      <td>12</td>\n",
       "      <td>...</td>\n",
       "      <td>10</td>\n",
       "      <td>16</td>\n",
       "      <td>12</td>\n",
       "      <td>13</td>\n",
       "      <td>12</td>\n",
       "      <td>17</td>\n",
       "      <td>13</td>\n",
       "      <td>16</td>\n",
       "      <td>17</td>\n",
       "      <td>H</td>\n",
       "    </tr>\n",
       "    <tr>\n",
       "      <th>2</th>\n",
       "      <td>16</td>\n",
       "      <td>8</td>\n",
       "      <td>16</td>\n",
       "      <td>17</td>\n",
       "      <td>15</td>\n",
       "      <td>19</td>\n",
       "      <td>15</td>\n",
       "      <td>13</td>\n",
       "      <td>13</td>\n",
       "      <td>17</td>\n",
       "      <td>...</td>\n",
       "      <td>19</td>\n",
       "      <td>20</td>\n",
       "      <td>17</td>\n",
       "      <td>14</td>\n",
       "      <td>19</td>\n",
       "      <td>17</td>\n",
       "      <td>18</td>\n",
       "      <td>15</td>\n",
       "      <td>14</td>\n",
       "      <td>H</td>\n",
       "    </tr>\n",
       "    <tr>\n",
       "      <th>3</th>\n",
       "      <td>18</td>\n",
       "      <td>9</td>\n",
       "      <td>17</td>\n",
       "      <td>14</td>\n",
       "      <td>11</td>\n",
       "      <td>17</td>\n",
       "      <td>17</td>\n",
       "      <td>14</td>\n",
       "      <td>12</td>\n",
       "      <td>12</td>\n",
       "      <td>...</td>\n",
       "      <td>19</td>\n",
       "      <td>20</td>\n",
       "      <td>19</td>\n",
       "      <td>10</td>\n",
       "      <td>18</td>\n",
       "      <td>15</td>\n",
       "      <td>17</td>\n",
       "      <td>14</td>\n",
       "      <td>14</td>\n",
       "      <td>H</td>\n",
       "    </tr>\n",
       "    <tr>\n",
       "      <th>4</th>\n",
       "      <td>16</td>\n",
       "      <td>9</td>\n",
       "      <td>17</td>\n",
       "      <td>13</td>\n",
       "      <td>10</td>\n",
       "      <td>17</td>\n",
       "      <td>17</td>\n",
       "      <td>15</td>\n",
       "      <td>12</td>\n",
       "      <td>18</td>\n",
       "      <td>...</td>\n",
       "      <td>19</td>\n",
       "      <td>19</td>\n",
       "      <td>18</td>\n",
       "      <td>10</td>\n",
       "      <td>17</td>\n",
       "      <td>17</td>\n",
       "      <td>18</td>\n",
       "      <td>14</td>\n",
       "      <td>12</td>\n",
       "      <td>H</td>\n",
       "    </tr>\n",
       "  </tbody>\n",
       "</table>\n",
       "<p>5 rows × 31 columns</p>\n",
       "</div>"
      ],
      "text/plain": [
       "   Optimism  Search_for_motivation  Activity  Assertiveness  Sociability  \\\n",
       "0        15                     12        14             12           13   \n",
       "1        18                     17        16             12           18   \n",
       "2        16                      8        16             17           15   \n",
       "3        18                      9        17             14           11   \n",
       "4        16                      9        17             13           10   \n",
       "\n",
       "   Friendliness  Empathy  Confidentiality  Cooperation  Altruism  ...  \\\n",
       "0            15       18               15           14        14  ...   \n",
       "1            12       11               17           15        12  ...   \n",
       "2            19       15               13           13        17  ...   \n",
       "3            17       17               14           12        12  ...   \n",
       "4            17       17               15           12        18  ...   \n",
       "\n",
       "   Stability  Coldness  Calm  Liberalism  Intellectuality  Audacity  \\\n",
       "0         15        14     8          10               15        10   \n",
       "1         10        16    12          13               12        17   \n",
       "2         19        20    17          14               19        17   \n",
       "3         19        20    19          10               18        15   \n",
       "4         19        19    18          10               17        17   \n",
       "\n",
       "   Emotionality  Artistic_interests  Imagination  Condtion  \n",
       "0            13                  14           16         H  \n",
       "1            13                  16           17         H  \n",
       "2            18                  15           14         H  \n",
       "3            17                  14           14         H  \n",
       "4            18                  14           12         H  \n",
       "\n",
       "[5 rows x 31 columns]"
      ]
     },
     "execution_count": 4,
     "metadata": {},
     "output_type": "execute_result"
    }
   ],
   "source": [
    "data.head()"
   ]
  },
  {
   "cell_type": "code",
   "execution_count": 5,
   "id": "8e2d098c",
   "metadata": {},
   "outputs": [],
   "source": [
    "X = data.iloc[:,0:30]  #independent columns\n",
    "y = data.iloc[:,-1]    #target column i.e price range"
   ]
  },
  {
   "cell_type": "code",
   "execution_count": 6,
   "id": "e1095f97",
   "metadata": {},
   "outputs": [
    {
     "name": "stdout",
     "output_type": "stream",
     "text": [
      "[0.02454125 0.02730904 0.02996376 0.0220388  0.02424099 0.05392187\n",
      " 0.02490407 0.02371647 0.0281273  0.02406822 0.03031327 0.03055985\n",
      " 0.02280346 0.06904821 0.03937608 0.03131486 0.02809583 0.02436726\n",
      " 0.03735016 0.02772658 0.03520757 0.0976653  0.05098707 0.03421949\n",
      " 0.02217505 0.02092201 0.02158989 0.02256877 0.02082428 0.05005324]\n"
     ]
    },
    {
     "data": {
      "image/png": "[encoded data removed]",
      "text/plain": [
       "<Figure size 432x288 with 1 Axes>"
      ]
     },
     "metadata": {
      "needs_background": "light"
     },
     "output_type": "display_data"
    }
   ],
   "source": [
    "from sklearn.ensemble import ExtraTreesClassifier\n",
    "import matplotlib.pyplot as plt\n",
    "model = ExtraTreesClassifier()\n",
    "model.fit(X,y)\n",
    "print(model.feature_importances_) #use inbuilt class feature_importances of tree based classifiers\n",
    "#plot graph of feature importances for better visualization\n",
    "feat_importances = pd.Series(model.feature_importances_, index=X.columns)\n",
    "feat_importances.nlargest(10).plot(kind='barh')\n",
    "plt.show()"
   ]
  },
  {
   "cell_type": "code",
   "execution_count": 7,
   "id": "f185f416",
   "metadata": {},
   "outputs": [
    {
     "name": "stdout",
     "output_type": "stream",
     "text": [
      "                 Specs         Score\n",
      "21           Stability  11809.349890\n",
      "13     Self_discipline   9355.657990\n",
      "22            Coldness   7960.465406\n",
      "5         Friendliness   6079.372501\n",
      "18   Interior_strength   5947.986779\n",
      "23                Calm   5040.414428\n",
      "20     Self_confidence   4556.162028\n",
      "14  Success_Motivation   4412.701768\n",
      "2             Activity   3238.796632\n",
      "29         Imagination   2968.938437\n"
     ]
    }
   ],
   "source": [
    "from sklearn.feature_selection import SelectKBest\n",
    "from sklearn.feature_selection import chi2\n",
    "\n",
    "#apply SelectKBest class to extract top 10 best features\n",
    "bestfeatures = SelectKBest(score_func=chi2, k=10)\n",
    "fit = bestfeatures.fit(X,y)\n",
    "dfscores = pd.DataFrame(fit.scores_)\n",
    "dfcolumns = pd.DataFrame(X.columns)\n",
    "#concat two dataframes for better visualization \n",
    "featureScores = pd.concat([dfcolumns,dfscores],axis=1)\n",
    "featureScores.columns = ['Specs','Score']  #naming the dataframe columns\n",
    "print(featureScores.nlargest(10,'Score'))  #print 10 best features"
   ]
  },
  {
   "cell_type": "markdown",
   "id": "48de81a5",
   "metadata": {},
   "source": [
    "Between above 2 feature selection models Activity in the select Kbest and confidence in the extra tree classifier model has been changed"
   ]
  },
  {
   "cell_type": "code",
   "execution_count": 8,
   "id": "ecdfdf45",
   "metadata": {},
   "outputs": [],
   "source": [
    "df = data.copy()\n",
    "df['Condtion'] = (data['Condtion'] == 'H').astype(int)"
   ]
  },
  {
   "cell_type": "code",
   "execution_count": 9,
   "id": "eafd1f3a",
   "metadata": {},
   "outputs": [],
   "source": [
    "X = df.iloc[:,0:30]  #independent columns\n",
    "y = df.iloc[:,-1]    #target column i.e price range"
   ]
  },
  {
   "cell_type": "code",
   "execution_count": 10,
   "id": "28ce8722",
   "metadata": {},
   "outputs": [
    {
     "name": "stdout",
     "output_type": "stream",
     "text": [
      "10 selected features\n"
     ]
    }
   ],
   "source": [
    "#absolute value of the Pearson’s correlation between target and numerical features\n",
    "def cor_selector(X, y,num_feats):\n",
    "    cor_list = []\n",
    "    feature_name = X.columns.tolist()\n",
    "    # calculate the correlation with y for each feature\n",
    "    for i in X.columns.tolist():\n",
    "        cor = np.corrcoef(X[i], y)[0, 1]\n",
    "        cor_list.append(cor)\n",
    "    # replace NaN with 0\n",
    "    cor_list = [0 if np.isnan(i) else i for i in cor_list]\n",
    "    # feature name\n",
    "    cor_feature = X.iloc[:,np.argsort(np.abs(cor_list))[-num_feats:]].columns.tolist()\n",
    "    # feature selection? 0 for not select, 1 for select\n",
    "    cor_support = [True if i in cor_feature else False for i in feature_name]\n",
    "    return cor_support, cor_feature,cor_list\n",
    "cor_support, cor_feature, cor_list = cor_selector(X, y,10)\n",
    "print(str(len(cor_feature)), 'selected features')"
   ]
  },
  {
   "cell_type": "code",
   "execution_count": 11,
   "id": "ae18129c",
   "metadata": {},
   "outputs": [],
   "source": [
    "cor_support = np.array(cor_support)\n",
    "cor_support = np.multiply(cor_support, 1)"
   ]
  },
  {
   "cell_type": "code",
   "execution_count": 12,
   "id": "e8718a75",
   "metadata": {},
   "outputs": [
    {
     "data": {
      "text/plain": [
       "array([0, 0, 1, 0, 0, 1, 0, 0, 0, 0, 0, 0, 0, 1, 1, 1, 0, 0, 1, 0, 1, 1,\n",
       "       1, 1, 0, 0, 0, 0, 0, 0])"
      ]
     },
     "execution_count": 12,
     "metadata": {},
     "output_type": "execute_result"
    }
   ],
   "source": [
    "cor_support"
   ]
  },
  {
   "cell_type": "code",
   "execution_count": 13,
   "id": "96f7a286",
   "metadata": {},
   "outputs": [],
   "source": [
    "cor_lst = []\n",
    "for i in range(len(cor_support)):\n",
    "    if cor_support[i] == 1:\n",
    "        cor_lst.append(cor_list[i])"
   ]
  },
  {
   "cell_type": "code",
   "execution_count": 14,
   "id": "7e1e40b8",
   "metadata": {},
   "outputs": [
    {
     "name": "stdout",
     "output_type": "stream",
     "text": [
      "cor_feature : ['Activity', 'Sense_of_duty', 'Self_confidence', 'Interior_strength', 'Calm', 'Success_Motivation', 'Friendliness', 'Coldness', 'Self_discipline', 'Stability'] and cor_list : [-0.2926620271458698, -0.4028719805637569, -0.4475994823443913, -0.3707901345804571, -0.33357710811799, -0.36105493461941335, -0.339245939715324, -0.4697424823290885, -0.41693208820784616, -0.3635300843107416]\n"
     ]
    }
   ],
   "source": [
    "print(f'cor_feature : {cor_feature} and cor_list : {cor_lst}')"
   ]
  }
 ],
 "metadata": {
  "kernelspec": {
   "display_name": "Python 3 (ipykernel)",
   "language": "python",
   "name": "python3"
  },
  "language_info": {
   "codemirror_mode": {
    "name": "ipython",
    "version": 3
   },
   "file_extension": ".py",
   "mimetype": "text/x-python",
   "name": "python",
   "nbconvert_exporter": "python",
   "pygments_lexer": "ipython3",
   "version": "3.9.12"
  }
 },
 "nbformat": 4,
 "nbformat_minor": 5
}
